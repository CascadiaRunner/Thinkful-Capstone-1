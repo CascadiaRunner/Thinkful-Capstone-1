{
 "cells": [
  {
   "cell_type": "markdown",
   "metadata": {},
   "source": [
    "Examining Ultra-Trail du Mont-Blanc race results\n",
    "\n",
    "Ultra-Trail du Mont-Blanc (UTMB) is a 166 km single-stage mountain ultra-marathon that follows the Tour du Mont Blanc hiking loop through 3 countries beginning and ending in Chaminox, France.  It is as well-known for its striking beauty and as it is for being an utterly brutal race with about 9,500 meters of elevation change and much of the race at over 2,500 meters above sea level.  When many summertime backpackers take 7 to 9 days to walk the entire trail, runners attempt to complete the route in just under 2 days.  Historically, the majority of runners do not finish due to missing the strict timing cutoffs.  While the best runners complete the loop in slightly more than 20 hours, most runners take 32 to 46 hours to reach the finish line and will have to run through two nights in order to complete the race. "
   ]
  },
  {
   "cell_type": "code",
   "execution_count": 1,
   "metadata": {},
   "outputs": [],
   "source": [
    "import numpy as np\n",
    "import pandas as pd\n",
    "import matplotlib.pyplot as plt\n",
    "%matplotlib inline\n",
    "from scipy.stats import ttest_ind\n",
    "from datetime import datetime, timedelta"
   ]
  },
  {
   "cell_type": "markdown",
   "metadata": {},
   "source": [
    "Dataset: https://www.kaggle.com/ceruleansea/ultratrail-du-montblanc-20032017\n",
    "\n",
    "The dataset was acquired from a post on Kaggle.  The user scaped the data from the UTMB Wikipedia page.  \n",
    "\n",
    "The data was in a .csv format and each file contained the results by year.  Each dataset contained rows of data for each runner with attribute columns such as: name, rank, category, nationality, time and some timing splits denoting when each runner passed a landmark along the course.\n",
    "\n",
    "The data needed some refining.  First, I excluded a couple years because of incomplete data - 2003 data did not have runners who did not finish(DNF).  In 2010, the race was halted due to poor weather.  2012 was included, but, that year the UTMB was only held as a 100K race due to heavy snow.\n",
    "\n",
    "Nationality data was in both upper-case and lower-case formats so that needed to be cleaned up to be more consistant.  Nationality was also dropped from all DNF results."
   ]
  },
  {
   "cell_type": "code",
   "execution_count": 26,
   "metadata": {},
   "outputs": [
    {
     "data": {
      "text/html": [
       "<div>\n",
       "<style scoped>\n",
       "    .dataframe tbody tr th:only-of-type {\n",
       "        vertical-align: middle;\n",
       "    }\n",
       "\n",
       "    .dataframe tbody tr th {\n",
       "        vertical-align: top;\n",
       "    }\n",
       "\n",
       "    .dataframe thead th {\n",
       "        text-align: right;\n",
       "    }\n",
       "</style>\n",
       "<table border=\"1\" class=\"dataframe\">\n",
       "  <thead>\n",
       "    <tr style=\"text-align: right;\">\n",
       "      <th></th>\n",
       "      <th>rank</th>\n",
       "      <th>nationality</th>\n",
       "      <th>category</th>\n",
       "      <th>name</th>\n",
       "      <th>time</th>\n",
       "    </tr>\n",
       "  </thead>\n",
       "  <tbody>\n",
       "    <tr>\n",
       "      <th>0</th>\n",
       "      <td>1</td>\n",
       "      <td>FR</td>\n",
       "      <td>SE H</td>\n",
       "      <td>D'HAENE François</td>\n",
       "      <td>19:01:54</td>\n",
       "    </tr>\n",
       "    <tr>\n",
       "      <th>1</th>\n",
       "      <td>2</td>\n",
       "      <td>ES</td>\n",
       "      <td>SE H</td>\n",
       "      <td>JORNET BURGADA Kilian</td>\n",
       "      <td>19:16:59</td>\n",
       "    </tr>\n",
       "    <tr>\n",
       "      <th>2</th>\n",
       "      <td>3</td>\n",
       "      <td>US</td>\n",
       "      <td>SE H</td>\n",
       "      <td>TOLLEFSON Tim</td>\n",
       "      <td>19:53:00</td>\n",
       "    </tr>\n",
       "    <tr>\n",
       "      <th>3</th>\n",
       "      <td>4</td>\n",
       "      <td>FR</td>\n",
       "      <td>SE H</td>\n",
       "      <td>THEVENARD Xavier</td>\n",
       "      <td>20:03:39</td>\n",
       "    </tr>\n",
       "    <tr>\n",
       "      <th>4</th>\n",
       "      <td>5</td>\n",
       "      <td>US</td>\n",
       "      <td>SE H</td>\n",
       "      <td>WALMSLEY Jim</td>\n",
       "      <td>20:11:38</td>\n",
       "    </tr>\n",
       "  </tbody>\n",
       "</table>\n",
       "</div>"
      ],
      "text/plain": [
       "   rank nationality category                   name      time\n",
       "0     1          FR     SE H       D'HAENE François  19:01:54\n",
       "1     2          ES     SE H  JORNET BURGADA Kilian  19:16:59\n",
       "2     3          US     SE H          TOLLEFSON Tim  19:53:00\n",
       "3     4          FR     SE H       THEVENARD Xavier  20:03:39\n",
       "4     5          US     SE H           WALMSLEY Jim  20:11:38"
      ]
     },
     "execution_count": 26,
     "metadata": {},
     "output_type": "execute_result"
    }
   ],
   "source": [
    "# DATA YEARS ARE FROM 2003-17.  EXCLUDED 2003 (INCOMPLETE DATA) & 2010 (RACE WAS HALTED THEN RESTARTED)\n",
    "# IN 2012, THE RACE WAS SHORTENED TO 100K DUE TO SNOW\n",
    "\n",
    "years = ['04','05','06','07','08','09','11','12','13','14','15','16','17']\n",
    "allresults = pd.DataFrame()\n",
    "\n",
    "# TAKES DATA FROM .CSV FILES AND ADDS TO THE DATAFRAME\n",
    "for x in years:\n",
    "    # INTERATE THROUGH ALL THE DATA\n",
    "    data = pd.read_csv('C:\\\\Users\\\\Chris\\\\Documents\\\\Python Scripts\\\\UTMB\\\\utmb_20' + x + '.csv')\n",
    "    \n",
    "    # CHANGES ALL NATIONALITY DATA TO UPPERCASE\n",
    "    data['nationality'] = data['nationality'].str.upper()\n",
    "    \n",
    "    # PULLS DATA FROM THE .CSV FILES FOR ANALYSIS\n",
    "    allresults = pd.concat([data['rank'], \n",
    "                            data['nationality'], \n",
    "                            data['category'], \n",
    "                            data['name'], \n",
    "                            data['time']], axis=1).append(allresults)\n",
    "    \n",
    "allresults.head()"
   ]
  },
  {
   "cell_type": "markdown",
   "metadata": {},
   "source": [
    "Time data was imported as a string and needed to changed to timedelta format for analysis and visualization.  Below, I created a function that would convert the string to a timedelta."
   ]
  },
  {
   "cell_type": "code",
   "execution_count": 18,
   "metadata": {},
   "outputs": [],
   "source": [
    "def convert_string_to_datetime(time_string):\n",
    "    # ADDED THE DAYS COLUMN TO THE TIME TO REPRESENT 1 24-HR PERIOD\n",
    "    # MUST BE A NUMBERED DAY, HENCE '01' IS ADDED\n",
    "    time_string = \"01:\" + str(time_string)\n",
    "    \n",
    "    # CONVERTING THE VALUES OVER 24 HOURS TO DAYS\n",
    "    hrs = int(time_string[3:5])\n",
    "    if hrs > 23:\n",
    "        time_string = '02:' + str(hrs-24) + time_string[5:]\n",
    "        \n",
    "    # RETURNS TIMEDELTA WITH DAYS, HOURS, MINUTES, SECONDS    \n",
    "    t=datetime.strptime(time_string, \"%d:%H:%M:%S\")\n",
    "    delta = timedelta(days=t.day-1, hours=t.hour, minutes=t.minute, seconds=t.second)\n",
    "    return delta"
   ]
  },
  {
   "cell_type": "markdown",
   "metadata": {},
   "source": [
    "With the visualization below, we can see that the vast majority of runners finish the race in over 40 hours.  In fact, the median finishing time is 39 hours, 38 minutes. "
   ]
  },
  {
   "cell_type": "code",
   "execution_count": 25,
   "metadata": {},
   "outputs": [
    {
     "data": {
      "text/plain": [
       "Timedelta('1 days 15:38:11.500000')"
      ]
     },
     "execution_count": 25,
     "metadata": {},
     "output_type": "execute_result"
    }
   ],
   "source": [
    "# REMOVE DNFS\n",
    "justfinishers = allresults[allresults['nationality'] != ' ']\n",
    "justfinishers = justfinishers.dropna()\n",
    "\n",
    "# CHANGE CONVERT TIME STRING TO DATETIME\n",
    "justfinishers['timeparse'] = justfinishers['time'].apply(convert_string_to_datetime)\n",
    "justfinishers['timeparse'].median()"
   ]
  },
  {
   "cell_type": "code",
   "execution_count": 23,
   "metadata": {},
   "outputs": [
    {
     "data": {
      "image/png": "[encoded data removed]",
      "text/plain": [
       "<Figure size 432x288 with 1 Axes>"
      ]
     },
     "metadata": {},
     "output_type": "display_data"
    }
   ],
   "source": [
    "# CREATE A CHART SHOWING WHEN RUNNERS FINISH THE UTMB\n",
    "justfinishers['hours'] = justfinishers['timeparse'].dt.total_seconds() / 60 / 60\n",
    "plt.hist(justfinishers['hours'])\n",
    "plt.xlabel('Finishing Times in Hours')\n",
    "plt.ylabel('Finishing Runners')\n",
    "plt.show()"
   ]
  },
  {
   "cell_type": "markdown",
   "metadata": {},
   "source": [
    "Question 1: Which countries are the most representative at UTMB?  Do these nationalities attribute to the most success at UTMB?\n",
    "\n",
    "The vast majority of UTMB finishers are from France which accounts for 50% of all UTMB finishers. France has almost five times as many finishers as the next country, Spain, which represents 11% of UTMB finishers.\n",
    "\n",
    "In fact, 83% of UTMB finishers claim nationality from just 7 different countries. Three of the top 7 are countries which the UTMB passes through - France, Italy & Switzerland.  Also included in the top 7 are other mountainous western European countries - Spain, Germany & Great Britain.  Japan is the anomaly in the top 7.  It is a mountainous country but still a 14-hour flight from western Europe.\n",
    "\n",
    "From these statistics, we can conclude that there is a strong regionality to this race and being from a top 7 country could possibly be an advantage. The question of nationality as an advantage could be hypothesis for further study down the road. "
   ]
  },
  {
   "cell_type": "code",
   "execution_count": 31,
   "metadata": {},
   "outputs": [
    {
     "data": {
      "image/png": "[encoded data removed]",
      "text/plain": [
       "<Figure size 1800x720 with 1 Axes>"
      ]
     },
     "metadata": {},
     "output_type": "display_data"
    },
    {
     "data": {
      "text/plain": [
       "FR    8909\n",
       "ES    1862\n",
       "IT    1275\n",
       "GB    1012\n",
       "JP     637\n",
       "dtype: int64"
      ]
     },
     "execution_count": 31,
     "metadata": {},
     "output_type": "execute_result"
    }
   ],
   "source": [
    "# PLOT NATIONALITY REPRESENTED AMONG UTMB FINISHERS\n",
    "plt.figure(1, figsize=(25,10))\n",
    "plt.plot(pd.value_counts(justfinishers['nationality'].values, sort=True))\n",
    "plt.show()\n",
    "pd.value_counts(justfinishers['nationality'].values).head()"
   ]
  },
  {
   "cell_type": "code",
   "execution_count": 47,
   "metadata": {},
   "outputs": [
    {
     "name": "stdout",
     "output_type": "stream",
     "text": [
      "0.5025383574007221\n",
      "0.10503158844765342\n",
      "0.8297044223826715\n"
     ]
    }
   ],
   "source": [
    "nat_count = pd.value_counts(justfinishers['nationality'], sort=True)\n",
    "# PERCENTAGES OF FINISHERS ARE FROM THE TOP COUNTRY?\n",
    "print(nat_count.iloc[0].sum() / nat_count.sum())\n",
    "# PERCENTAGES OF FINISHERS ARE FROM THE SECOND COUNTRY?\n",
    "print(nat_count.iloc[1].sum() / nat_count.sum())\n",
    "# PERCENTAGES OF FINISHERS ARE FROM THE TOP 7?\n",
    "print(nat_count.iloc[:7].sum() / nat_count.sum())"
   ]
  },
  {
   "cell_type": "markdown",
   "metadata": {},
   "source": [
    "Question 2:\n",
    "What age/gender group have the most success at UTMB?\n",
    "\n",
    "UTMB puts age into three separate categories:\n",
    "Espoirs (ES): 20-22 years old,\n",
    "Seniors (SE): 23-39 years old, and\n",
    "Masters (VH or VF depending on gender): 40+ years old\n",
    "\n",
    "NOTE: Juniors: 19 years old and under are not allowed to run UTMB.\n",
    "\n",
    "See the chart dataframe below for the category key."
   ]
  },
  {
   "cell_type": "code",
   "execution_count": 48,
   "metadata": {},
   "outputs": [
    {
     "data": {
      "text/html": [
       "<div>\n",
       "<style scoped>\n",
       "    .dataframe tbody tr th:only-of-type {\n",
       "        vertical-align: middle;\n",
       "    }\n",
       "\n",
       "    .dataframe tbody tr th {\n",
       "        vertical-align: top;\n",
       "    }\n",
       "\n",
       "    .dataframe thead th {\n",
       "        text-align: right;\n",
       "    }\n",
       "</style>\n",
       "<table border=\"1\" class=\"dataframe\">\n",
       "  <thead>\n",
       "    <tr style=\"text-align: right;\">\n",
       "      <th></th>\n",
       "      <th>CATEGORY</th>\n",
       "      <th>CODE</th>\n",
       "      <th>AGE RANGE</th>\n",
       "    </tr>\n",
       "  </thead>\n",
       "  <tbody>\n",
       "    <tr>\n",
       "      <th>0</th>\n",
       "      <td>Espoirs Men</td>\n",
       "      <td>ES H</td>\n",
       "      <td>20-22</td>\n",
       "    </tr>\n",
       "    <tr>\n",
       "      <th>1</th>\n",
       "      <td>Espoirs Women</td>\n",
       "      <td>ES F</td>\n",
       "      <td>20-22</td>\n",
       "    </tr>\n",
       "    <tr>\n",
       "      <th>2</th>\n",
       "      <td>Seniors Men</td>\n",
       "      <td>SE H</td>\n",
       "      <td>23-39</td>\n",
       "    </tr>\n",
       "    <tr>\n",
       "      <th>3</th>\n",
       "      <td>Seniors Women</td>\n",
       "      <td>SE F</td>\n",
       "      <td>23-39</td>\n",
       "    </tr>\n",
       "    <tr>\n",
       "      <th>4</th>\n",
       "      <td>Masters Men 1</td>\n",
       "      <td>VH 1</td>\n",
       "      <td>40-49</td>\n",
       "    </tr>\n",
       "    <tr>\n",
       "      <th>5</th>\n",
       "      <td>Masters Men 2</td>\n",
       "      <td>VH 2</td>\n",
       "      <td>50-59</td>\n",
       "    </tr>\n",
       "    <tr>\n",
       "      <th>6</th>\n",
       "      <td>Masters Men 3</td>\n",
       "      <td>VH 3</td>\n",
       "      <td>60-69</td>\n",
       "    </tr>\n",
       "    <tr>\n",
       "      <th>7</th>\n",
       "      <td>Masters Men 4</td>\n",
       "      <td>VH 4</td>\n",
       "      <td>70-79</td>\n",
       "    </tr>\n",
       "    <tr>\n",
       "      <th>8</th>\n",
       "      <td>Masters Men 5</td>\n",
       "      <td>VH 5</td>\n",
       "      <td>80+</td>\n",
       "    </tr>\n",
       "    <tr>\n",
       "      <th>9</th>\n",
       "      <td>Masters Women 1</td>\n",
       "      <td>VF 1</td>\n",
       "      <td>40-49</td>\n",
       "    </tr>\n",
       "    <tr>\n",
       "      <th>10</th>\n",
       "      <td>Masters Women 2</td>\n",
       "      <td>VF 2</td>\n",
       "      <td>50-59</td>\n",
       "    </tr>\n",
       "    <tr>\n",
       "      <th>11</th>\n",
       "      <td>Masters Women 3</td>\n",
       "      <td>VF 3</td>\n",
       "      <td>60-69</td>\n",
       "    </tr>\n",
       "    <tr>\n",
       "      <th>12</th>\n",
       "      <td>Masters Women 4</td>\n",
       "      <td>VF 4</td>\n",
       "      <td>70-79</td>\n",
       "    </tr>\n",
       "    <tr>\n",
       "      <th>13</th>\n",
       "      <td>Masters Women 5</td>\n",
       "      <td>VF 5</td>\n",
       "      <td>80+</td>\n",
       "    </tr>\n",
       "  </tbody>\n",
       "</table>\n",
       "</div>"
      ],
      "text/plain": [
       "           CATEGORY  CODE AGE RANGE\n",
       "0       Espoirs Men  ES H     20-22\n",
       "1     Espoirs Women  ES F     20-22\n",
       "2       Seniors Men  SE H     23-39\n",
       "3     Seniors Women  SE F     23-39\n",
       "4     Masters Men 1  VH 1     40-49\n",
       "5     Masters Men 2  VH 2     50-59\n",
       "6     Masters Men 3  VH 3     60-69\n",
       "7     Masters Men 4  VH 4     70-79\n",
       "8     Masters Men 5  VH 5       80+\n",
       "9   Masters Women 1  VF 1     40-49\n",
       "10  Masters Women 2  VF 2     50-59\n",
       "11  Masters Women 3  VF 3     60-69\n",
       "12  Masters Women 4  VF 4     70-79\n",
       "13  Masters Women 5  VF 5       80+"
      ]
     },
     "execution_count": 48,
     "metadata": {},
     "output_type": "execute_result"
    }
   ],
   "source": [
    "pd.read_csv('C:\\\\Users\\\\Chris\\\\Documents\\\\Python Scripts\\\\UTMB\\\\agecategories.csv')"
   ]
  },
  {
   "cell_type": "code",
   "execution_count": 57,
   "metadata": {},
   "outputs": [
    {
     "data": {
      "text/plain": [
       "H    27666\n",
       "F     2541\n",
       "dtype: int64"
      ]
     },
     "execution_count": 57,
     "metadata": {},
     "output_type": "execute_result"
    }
   ],
   "source": [
    "# MEN VS WOMEN PARTICIPANTS (H = MEN, F = WOMEN)\n",
    "pd.value_counts(allresults['category'].str[-1].values)"
   ]
  },
  {
   "cell_type": "markdown",
   "metadata": {},
   "source": [
    "Men out number women participants 10 to 1 at UTMB.  Not surprisingly, the majority of UTMB finishers are also men.  Their top age categories are Seniors, Masters 1 and Masters 2.  In the data plot below we can see just how much more represented these age/gender groups are at UTMB over the others.  I used the describe function below to further break down the finisher categories. Observing the mean rank, standard deviation, min (best finish) we can observe that these 3 categories have performed better than the others. "
   ]
  },
  {
   "cell_type": "code",
   "execution_count": 59,
   "metadata": {
    "scrolled": true
   },
   "outputs": [
    {
     "data": {
      "image/png": "[encoded data removed]",
      "text/plain": [
       "<Figure size 432x288 with 1 Axes>"
      ]
     },
     "metadata": {},
     "output_type": "display_data"
    }
   ],
   "source": [
    "# UTMB FINISHERS BY CATEGORY\n",
    "plt.plot(pd.value_counts(justfinishers['category'].values, sort=True))\n",
    "plt.show()"
   ]
  },
  {
   "cell_type": "code",
   "execution_count": 58,
   "metadata": {},
   "outputs": [
    {
     "data": {
      "text/html": [
       "<div>\n",
       "<style scoped>\n",
       "    .dataframe tbody tr th:only-of-type {\n",
       "        vertical-align: middle;\n",
       "    }\n",
       "\n",
       "    .dataframe tbody tr th {\n",
       "        vertical-align: top;\n",
       "    }\n",
       "\n",
       "    .dataframe thead tr th {\n",
       "        text-align: left;\n",
       "    }\n",
       "\n",
       "    .dataframe thead tr:last-of-type th {\n",
       "        text-align: right;\n",
       "    }\n",
       "</style>\n",
       "<table border=\"1\" class=\"dataframe\">\n",
       "  <thead>\n",
       "    <tr>\n",
       "      <th></th>\n",
       "      <th colspan=\"8\" halign=\"left\">rank</th>\n",
       "      <th colspan=\"8\" halign=\"left\">timeparse</th>\n",
       "    </tr>\n",
       "    <tr>\n",
       "      <th></th>\n",
       "      <th>count</th>\n",
       "      <th>mean</th>\n",
       "      <th>std</th>\n",
       "      <th>min</th>\n",
       "      <th>25%</th>\n",
       "      <th>50%</th>\n",
       "      <th>75%</th>\n",
       "      <th>max</th>\n",
       "      <th>count</th>\n",
       "      <th>mean</th>\n",
       "      <th>std</th>\n",
       "      <th>min</th>\n",
       "      <th>25%</th>\n",
       "      <th>50%</th>\n",
       "      <th>75%</th>\n",
       "      <th>max</th>\n",
       "    </tr>\n",
       "    <tr>\n",
       "      <th>category</th>\n",
       "      <th></th>\n",
       "      <th></th>\n",
       "      <th></th>\n",
       "      <th></th>\n",
       "      <th></th>\n",
       "      <th></th>\n",
       "      <th></th>\n",
       "      <th></th>\n",
       "      <th></th>\n",
       "      <th></th>\n",
       "      <th></th>\n",
       "      <th></th>\n",
       "      <th></th>\n",
       "      <th></th>\n",
       "      <th></th>\n",
       "      <th></th>\n",
       "    </tr>\n",
       "  </thead>\n",
       "  <tbody>\n",
       "    <tr>\n",
       "      <th>ES F</th>\n",
       "      <td>1.0</td>\n",
       "      <td>511.000000</td>\n",
       "      <td>NaN</td>\n",
       "      <td>511.0</td>\n",
       "      <td>511.00</td>\n",
       "      <td>511.0</td>\n",
       "      <td>511.00</td>\n",
       "      <td>511.0</td>\n",
       "      <td>1</td>\n",
       "      <td>1 days 14:38:10</td>\n",
       "      <td>NaT</td>\n",
       "      <td>1 days 14:38:10</td>\n",
       "      <td>1 days 14:38:10</td>\n",
       "      <td>1 days 14:38:10</td>\n",
       "      <td>1 days 14:38:10</td>\n",
       "      <td>1 days 14:38:10</td>\n",
       "    </tr>\n",
       "    <tr>\n",
       "      <th>ES H</th>\n",
       "      <td>36.0</td>\n",
       "      <td>494.083333</td>\n",
       "      <td>406.779925</td>\n",
       "      <td>1.0</td>\n",
       "      <td>169.50</td>\n",
       "      <td>417.0</td>\n",
       "      <td>738.25</td>\n",
       "      <td>1385.0</td>\n",
       "      <td>36</td>\n",
       "      <td>1 days 11:20:58.277777</td>\n",
       "      <td>0 days 07:59:21.417737</td>\n",
       "      <td>0 days 15:49:56</td>\n",
       "      <td>1 days 07:03:59.750000</td>\n",
       "      <td>1 days 13:12:34</td>\n",
       "      <td>1 days 18:21:41.500000</td>\n",
       "      <td>1 days 21:36:35</td>\n",
       "    </tr>\n",
       "    <tr>\n",
       "      <th>SE F</th>\n",
       "      <td>524.0</td>\n",
       "      <td>735.591603</td>\n",
       "      <td>511.368760</td>\n",
       "      <td>7.0</td>\n",
       "      <td>270.00</td>\n",
       "      <td>660.5</td>\n",
       "      <td>1110.50</td>\n",
       "      <td>2118.0</td>\n",
       "      <td>524</td>\n",
       "      <td>1 days 13:05:43.337786</td>\n",
       "      <td>0 days 07:49:49.420594</td>\n",
       "      <td>0 days 12:32:13</td>\n",
       "      <td>1 days 08:35:26.750000</td>\n",
       "      <td>1 days 15:18:45.500000</td>\n",
       "      <td>1 days 19:23:13.750000</td>\n",
       "      <td>1 days 23:01:30</td>\n",
       "    </tr>\n",
       "    <tr>\n",
       "      <th>SE H</th>\n",
       "      <td>5900.0</td>\n",
       "      <td>656.487627</td>\n",
       "      <td>471.045841</td>\n",
       "      <td>1.0</td>\n",
       "      <td>242.00</td>\n",
       "      <td>592.0</td>\n",
       "      <td>1006.00</td>\n",
       "      <td>2122.0</td>\n",
       "      <td>5900</td>\n",
       "      <td>1 days 12:05:29.083898</td>\n",
       "      <td>0 days 08:11:23.907116</td>\n",
       "      <td>0 days 10:32:36</td>\n",
       "      <td>1 days 07:31:22.500000</td>\n",
       "      <td>1 days 14:34:41.500000</td>\n",
       "      <td>1 days 18:34:09.750000</td>\n",
       "      <td>1 days 22:38:13</td>\n",
       "    </tr>\n",
       "    <tr>\n",
       "      <th>V1 F</th>\n",
       "      <td>568.0</td>\n",
       "      <td>933.897887</td>\n",
       "      <td>483.127039</td>\n",
       "      <td>14.0</td>\n",
       "      <td>546.75</td>\n",
       "      <td>948.5</td>\n",
       "      <td>1328.50</td>\n",
       "      <td>2097.0</td>\n",
       "      <td>568</td>\n",
       "      <td>1 days 14:22:32.126760</td>\n",
       "      <td>0 days 08:09:37.175550</td>\n",
       "      <td>0 days 13:17:01</td>\n",
       "      <td>1 days 11:35:48.750000</td>\n",
       "      <td>1 days 17:29:19.500000</td>\n",
       "      <td>1 days 20:25:56.750000</td>\n",
       "      <td>1 days 22:57:47</td>\n",
       "    </tr>\n",
       "    <tr>\n",
       "      <th>V1 H</th>\n",
       "      <td>7359.0</td>\n",
       "      <td>745.118902</td>\n",
       "      <td>466.195659</td>\n",
       "      <td>1.0</td>\n",
       "      <td>355.00</td>\n",
       "      <td>694.0</td>\n",
       "      <td>1087.00</td>\n",
       "      <td>2121.0</td>\n",
       "      <td>7359</td>\n",
       "      <td>1 days 13:17:20.755945</td>\n",
       "      <td>0 days 07:41:32.630777</td>\n",
       "      <td>0 days 11:37:18</td>\n",
       "      <td>1 days 10:08:19.500000</td>\n",
       "      <td>1 days 15:35:44</td>\n",
       "      <td>1 days 19:04:13</td>\n",
       "      <td>1 days 22:55:13</td>\n",
       "    </tr>\n",
       "    <tr>\n",
       "      <th>V2 F</th>\n",
       "      <td>214.0</td>\n",
       "      <td>1045.528037</td>\n",
       "      <td>482.496867</td>\n",
       "      <td>28.0</td>\n",
       "      <td>698.75</td>\n",
       "      <td>1055.5</td>\n",
       "      <td>1377.75</td>\n",
       "      <td>2106.0</td>\n",
       "      <td>214</td>\n",
       "      <td>1 days 14:46:02.551401</td>\n",
       "      <td>0 days 08:07:24.441047</td>\n",
       "      <td>0 days 15:14:25</td>\n",
       "      <td>1 days 13:05:55.750000</td>\n",
       "      <td>1 days 18:01:06.500000</td>\n",
       "      <td>1 days 20:34:05.500000</td>\n",
       "      <td>1 days 22:42:40</td>\n",
       "    </tr>\n",
       "    <tr>\n",
       "      <th>V2 H</th>\n",
       "      <td>2788.0</td>\n",
       "      <td>862.873027</td>\n",
       "      <td>459.468478</td>\n",
       "      <td>1.0</td>\n",
       "      <td>497.00</td>\n",
       "      <td>838.5</td>\n",
       "      <td>1205.00</td>\n",
       "      <td>2120.0</td>\n",
       "      <td>2788</td>\n",
       "      <td>1 days 14:13:14.605093</td>\n",
       "      <td>0 days 07:40:21.218918</td>\n",
       "      <td>0 days 14:09:30</td>\n",
       "      <td>1 days 12:05:50.750000</td>\n",
       "      <td>1 days 16:54:23.500000</td>\n",
       "      <td>1 days 19:38:53</td>\n",
       "      <td>1 days 23:08:35</td>\n",
       "    </tr>\n",
       "    <tr>\n",
       "      <th>V3 F</th>\n",
       "      <td>16.0</td>\n",
       "      <td>1021.937500</td>\n",
       "      <td>566.679624</td>\n",
       "      <td>129.0</td>\n",
       "      <td>636.75</td>\n",
       "      <td>1055.0</td>\n",
       "      <td>1319.75</td>\n",
       "      <td>2101.0</td>\n",
       "      <td>16</td>\n",
       "      <td>1 days 15:37:44.625000</td>\n",
       "      <td>0 days 06:39:45.846818</td>\n",
       "      <td>1 days 00:43:39</td>\n",
       "      <td>1 days 13:12:15</td>\n",
       "      <td>1 days 18:27:27</td>\n",
       "      <td>1 days 20:23:29.500000</td>\n",
       "      <td>1 days 21:32:58</td>\n",
       "    </tr>\n",
       "    <tr>\n",
       "      <th>V3 H</th>\n",
       "      <td>316.0</td>\n",
       "      <td>948.705696</td>\n",
       "      <td>490.523283</td>\n",
       "      <td>9.0</td>\n",
       "      <td>560.25</td>\n",
       "      <td>914.0</td>\n",
       "      <td>1295.50</td>\n",
       "      <td>2107.0</td>\n",
       "      <td>316</td>\n",
       "      <td>1 days 14:19:22.537974</td>\n",
       "      <td>0 days 07:55:24.083095</td>\n",
       "      <td>0 days 15:09:04</td>\n",
       "      <td>1 days 12:36:46</td>\n",
       "      <td>1 days 17:19:34</td>\n",
       "      <td>1 days 19:51:13.250000</td>\n",
       "      <td>1 days 22:35:51</td>\n",
       "    </tr>\n",
       "    <tr>\n",
       "      <th>V4 H</th>\n",
       "      <td>6.0</td>\n",
       "      <td>786.666667</td>\n",
       "      <td>595.042407</td>\n",
       "      <td>227.0</td>\n",
       "      <td>411.25</td>\n",
       "      <td>508.5</td>\n",
       "      <td>1239.50</td>\n",
       "      <td>1614.0</td>\n",
       "      <td>6</td>\n",
       "      <td>1 days 17:31:21.833333</td>\n",
       "      <td>0 days 04:32:53.659461</td>\n",
       "      <td>1 days 10:07:29</td>\n",
       "      <td>1 days 15:26:27.500000</td>\n",
       "      <td>1 days 18:10:54</td>\n",
       "      <td>1 days 20:49:44.500000</td>\n",
       "      <td>1 days 22:24:34</td>\n",
       "    </tr>\n",
       "  </tbody>\n",
       "</table>\n",
       "</div>"
      ],
      "text/plain": [
       "            rank                                                           \\\n",
       "           count         mean         std    min     25%     50%      75%   \n",
       "category                                                                    \n",
       "ES F         1.0   511.000000         NaN  511.0  511.00   511.0   511.00   \n",
       "ES H        36.0   494.083333  406.779925    1.0  169.50   417.0   738.25   \n",
       "SE F       524.0   735.591603  511.368760    7.0  270.00   660.5  1110.50   \n",
       "SE H      5900.0   656.487627  471.045841    1.0  242.00   592.0  1006.00   \n",
       "V1 F       568.0   933.897887  483.127039   14.0  546.75   948.5  1328.50   \n",
       "V1 H      7359.0   745.118902  466.195659    1.0  355.00   694.0  1087.00   \n",
       "V2 F       214.0  1045.528037  482.496867   28.0  698.75  1055.5  1377.75   \n",
       "V2 H      2788.0   862.873027  459.468478    1.0  497.00   838.5  1205.00   \n",
       "V3 F        16.0  1021.937500  566.679624  129.0  636.75  1055.0  1319.75   \n",
       "V3 H       316.0   948.705696  490.523283    9.0  560.25   914.0  1295.50   \n",
       "V4 H         6.0   786.666667  595.042407  227.0  411.25   508.5  1239.50   \n",
       "\n",
       "                 timeparse                                                  \\\n",
       "             max     count                    mean                     std   \n",
       "category                                                                     \n",
       "ES F       511.0         1         1 days 14:38:10                     NaT   \n",
       "ES H      1385.0        36  1 days 11:20:58.277777  0 days 07:59:21.417737   \n",
       "SE F      2118.0       524  1 days 13:05:43.337786  0 days 07:49:49.420594   \n",
       "SE H      2122.0      5900  1 days 12:05:29.083898  0 days 08:11:23.907116   \n",
       "V1 F      2097.0       568  1 days 14:22:32.126760  0 days 08:09:37.175550   \n",
       "V1 H      2121.0      7359  1 days 13:17:20.755945  0 days 07:41:32.630777   \n",
       "V2 F      2106.0       214  1 days 14:46:02.551401  0 days 08:07:24.441047   \n",
       "V2 H      2120.0      2788  1 days 14:13:14.605093  0 days 07:40:21.218918   \n",
       "V3 F      2101.0        16  1 days 15:37:44.625000  0 days 06:39:45.846818   \n",
       "V3 H      2107.0       316  1 days 14:19:22.537974  0 days 07:55:24.083095   \n",
       "V4 H      1614.0         6  1 days 17:31:21.833333  0 days 04:32:53.659461   \n",
       "\n",
       "                                                                           \\\n",
       "                      min                     25%                     50%   \n",
       "category                                                                    \n",
       "ES F      1 days 14:38:10         1 days 14:38:10         1 days 14:38:10   \n",
       "ES H      0 days 15:49:56  1 days 07:03:59.750000         1 days 13:12:34   \n",
       "SE F      0 days 12:32:13  1 days 08:35:26.750000  1 days 15:18:45.500000   \n",
       "SE H      0 days 10:32:36  1 days 07:31:22.500000  1 days 14:34:41.500000   \n",
       "V1 F      0 days 13:17:01  1 days 11:35:48.750000  1 days 17:29:19.500000   \n",
       "V1 H      0 days 11:37:18  1 days 10:08:19.500000         1 days 15:35:44   \n",
       "V2 F      0 days 15:14:25  1 days 13:05:55.750000  1 days 18:01:06.500000   \n",
       "V2 H      0 days 14:09:30  1 days 12:05:50.750000  1 days 16:54:23.500000   \n",
       "V3 F      1 days 00:43:39         1 days 13:12:15         1 days 18:27:27   \n",
       "V3 H      0 days 15:09:04         1 days 12:36:46         1 days 17:19:34   \n",
       "V4 H      1 days 10:07:29  1 days 15:26:27.500000         1 days 18:10:54   \n",
       "\n",
       "                                                   \n",
       "                             75%              max  \n",
       "category                                           \n",
       "ES F             1 days 14:38:10  1 days 14:38:10  \n",
       "ES H      1 days 18:21:41.500000  1 days 21:36:35  \n",
       "SE F      1 days 19:23:13.750000  1 days 23:01:30  \n",
       "SE H      1 days 18:34:09.750000  1 days 22:38:13  \n",
       "V1 F      1 days 20:25:56.750000  1 days 22:57:47  \n",
       "V1 H             1 days 19:04:13  1 days 22:55:13  \n",
       "V2 F      1 days 20:34:05.500000  1 days 22:42:40  \n",
       "V2 H             1 days 19:38:53  1 days 23:08:35  \n",
       "V3 F      1 days 20:23:29.500000  1 days 21:32:58  \n",
       "V3 H      1 days 19:51:13.250000  1 days 22:35:51  \n",
       "V4 H      1 days 20:49:44.500000  1 days 22:24:34  "
      ]
     },
     "execution_count": 58,
     "metadata": {},
     "output_type": "execute_result"
    }
   ],
   "source": [
    "justfinishers.groupby('category').describe()"
   ]
  },
  {
   "cell_type": "code",
   "execution_count": 8,
   "metadata": {
    "scrolled": true
   },
   "outputs": [
    {
     "data": {
      "image/png": "[encoded data removed]",
      "text/plain": [
       "<Figure size 720x360 with 1 Axes>"
      ]
     },
     "metadata": {},
     "output_type": "display_data"
    }
   ],
   "source": [
    "# CREATES A LIST OF CATEGORIES AND SORTS THEM\n",
    "catlist = justfinishers['category'].unique()\n",
    "catlist.sort()\n",
    "\n",
    "rankedcat = []\n",
    "# ITERATE THROUGH EACH CATEGORY TO GET EACH RUNNERS RANK\n",
    "for x in catlist:\n",
    "    rankedcat.append(justfinishers.loc[justfinishers['category'] == x, 'rank'])\n",
    "    \n",
    "# BOX PLOT OF CHECK CATEGORY\n",
    "plt.figure(1, figsize=(10,5))\n",
    "plt.boxplot(rankedcat, labels=catlist)\n",
    "plt.show()"
   ]
  },
  {
   "cell_type": "markdown",
   "metadata": {},
   "source": [
    "The box plots above shows the distribution of ranking of each category.  We can see a larger skew toward higher-ranking performances among the top 3 men's categories - ES H, SE H, and V1 H.\n",
    "\n",
    "Given that these top 3 categories have similar rankings but different population counts, below is a 2 sample T-test to determine whether these categories are statistically different.  The ES H and SE H groups provided a p-value of 0.02 with 2.38 standard error units which would NOT indicate that these samples are different.  However, the SE H and V1 H group provided a p-value of 0.3e-37 which far below the 0.01 threshold and would indicate that these populations are different.   \n",
    "\n",
    "In fact, age in the categories goes up from when looking at the box plots from left to right.  As age gets higher, the median ranking and skew become less pronounced.  From this, we can conclude that the average ranking does go up as the runners get older."
   ]
  },
  {
   "cell_type": "code",
   "execution_count": 65,
   "metadata": {},
   "outputs": [
    {
     "name": "stdout",
     "output_type": "stream",
     "text": [
      "Ttest_indResult(statistic=2.385721712962689, pvalue=0.022496170177007967)\n",
      "Ttest_indResult(statistic=-10.816643816164978, pvalue=3.779521966872119e-27)\n"
     ]
    }
   ],
   "source": [
    "# T-TEST BETWEEN MEN 23-39 VS MEN 20-22\n",
    "print(ttest_ind(justfinishers.loc[justfinishers['category'] == 'SE H', 'rank'],\n",
    "                justfinishers.loc[justfinishers['category'] == 'ES H', 'rank'], \n",
    "                equal_var=False))\n",
    "\n",
    "# T-TEST BETWEEN MEN 23-39 VS MEN 40-49\n",
    "print(ttest_ind(justfinishers.loc[justfinishers['category'] == 'SE H', 'rank'],\n",
    "                justfinishers.loc[justfinishers['category'] == 'V1 H', 'rank'], \n",
    "                equal_var=False))"
   ]
  },
  {
   "cell_type": "markdown",
   "metadata": {},
   "source": [
    "However, there an outliner - Marco Olmo."
   ]
  },
  {
   "cell_type": "code",
   "execution_count": 66,
   "metadata": {},
   "outputs": [
    {
     "data": {
      "text/html": [
       "<div>\n",
       "<style scoped>\n",
       "    .dataframe tbody tr th:only-of-type {\n",
       "        vertical-align: middle;\n",
       "    }\n",
       "\n",
       "    .dataframe tbody tr th {\n",
       "        vertical-align: top;\n",
       "    }\n",
       "\n",
       "    .dataframe thead th {\n",
       "        text-align: right;\n",
       "    }\n",
       "</style>\n",
       "<table border=\"1\" class=\"dataframe\">\n",
       "  <thead>\n",
       "    <tr style=\"text-align: right;\">\n",
       "      <th></th>\n",
       "      <th>rank</th>\n",
       "      <th>nationality</th>\n",
       "      <th>category</th>\n",
       "      <th>name</th>\n",
       "      <th>time</th>\n",
       "    </tr>\n",
       "  </thead>\n",
       "  <tbody>\n",
       "    <tr>\n",
       "      <th>0</th>\n",
       "      <td>1</td>\n",
       "      <td>FR</td>\n",
       "      <td>SE H</td>\n",
       "      <td>D'HAENE François</td>\n",
       "      <td>19:01:54</td>\n",
       "    </tr>\n",
       "    <tr>\n",
       "      <th>0</th>\n",
       "      <td>1</td>\n",
       "      <td>FR</td>\n",
       "      <td>V1 H</td>\n",
       "      <td>POMMERET Ludovic</td>\n",
       "      <td>22:00:02</td>\n",
       "    </tr>\n",
       "    <tr>\n",
       "      <th>0</th>\n",
       "      <td>1</td>\n",
       "      <td>FR</td>\n",
       "      <td>SE H</td>\n",
       "      <td>THEVENARD Xavier</td>\n",
       "      <td>21:09:15</td>\n",
       "    </tr>\n",
       "    <tr>\n",
       "      <th>0</th>\n",
       "      <td>1</td>\n",
       "      <td>FR</td>\n",
       "      <td>SE H</td>\n",
       "      <td>D'HAENE François</td>\n",
       "      <td>20:11:44</td>\n",
       "    </tr>\n",
       "    <tr>\n",
       "      <th>0</th>\n",
       "      <td>1</td>\n",
       "      <td>FR</td>\n",
       "      <td>SE H</td>\n",
       "      <td>THEVENARD Xavier</td>\n",
       "      <td>20:34:57</td>\n",
       "    </tr>\n",
       "    <tr>\n",
       "      <th>0</th>\n",
       "      <td>1</td>\n",
       "      <td>FR</td>\n",
       "      <td>SE H</td>\n",
       "      <td>D'HAENE François</td>\n",
       "      <td>10:32:36</td>\n",
       "    </tr>\n",
       "    <tr>\n",
       "      <th>0</th>\n",
       "      <td>1</td>\n",
       "      <td>ES</td>\n",
       "      <td>SE H</td>\n",
       "      <td>JORNET BURGADA Kilian</td>\n",
       "      <td>20:36:43</td>\n",
       "    </tr>\n",
       "    <tr>\n",
       "      <th>0</th>\n",
       "      <td>1</td>\n",
       "      <td>ES</td>\n",
       "      <td>ES H</td>\n",
       "      <td>JORNET BURGADA Kilian</td>\n",
       "      <td>21:33:18</td>\n",
       "    </tr>\n",
       "    <tr>\n",
       "      <th>0</th>\n",
       "      <td>1</td>\n",
       "      <td>ES</td>\n",
       "      <td>ES H</td>\n",
       "      <td>JORNET BURGADA Kilian</td>\n",
       "      <td>20:56:59</td>\n",
       "    </tr>\n",
       "    <tr>\n",
       "      <th>0</th>\n",
       "      <td>1</td>\n",
       "      <td>IT</td>\n",
       "      <td>V2 H</td>\n",
       "      <td>OLMO Marco</td>\n",
       "      <td>21:31:58</td>\n",
       "    </tr>\n",
       "    <tr>\n",
       "      <th>0</th>\n",
       "      <td>1</td>\n",
       "      <td>IT</td>\n",
       "      <td>V2 H</td>\n",
       "      <td>OLMO Marco</td>\n",
       "      <td>21:06:06</td>\n",
       "    </tr>\n",
       "    <tr>\n",
       "      <th>0</th>\n",
       "      <td>1</td>\n",
       "      <td>CH</td>\n",
       "      <td>SE H</td>\n",
       "      <td>JAQUEROD Christophe</td>\n",
       "      <td>21:11:07</td>\n",
       "    </tr>\n",
       "    <tr>\n",
       "      <th>0</th>\n",
       "      <td>1</td>\n",
       "      <td>FR</td>\n",
       "      <td>SE H</td>\n",
       "      <td>DELEBARRE Vincent</td>\n",
       "      <td>21:06:18</td>\n",
       "    </tr>\n",
       "  </tbody>\n",
       "</table>\n",
       "</div>"
      ],
      "text/plain": [
       "   rank nationality category                   name      time\n",
       "0     1          FR     SE H       D'HAENE François  19:01:54\n",
       "0     1          FR     V1 H       POMMERET Ludovic  22:00:02\n",
       "0     1          FR     SE H       THEVENARD Xavier  21:09:15\n",
       "0     1          FR     SE H       D'HAENE François  20:11:44\n",
       "0     1          FR     SE H       THEVENARD Xavier  20:34:57\n",
       "0     1          FR     SE H       D'HAENE François  10:32:36\n",
       "0     1          ES     SE H  JORNET BURGADA Kilian  20:36:43\n",
       "0     1          ES     ES H  JORNET BURGADA Kilian  21:33:18\n",
       "0     1          ES     ES H  JORNET BURGADA Kilian  20:56:59\n",
       "0     1          IT     V2 H             OLMO Marco  21:31:58\n",
       "0     1          IT     V2 H             OLMO Marco  21:06:06\n",
       "0     1          CH     SE H    JAQUEROD Christophe  21:11:07\n",
       "0     1          FR     SE H      DELEBARRE Vincent  21:06:18"
      ]
     },
     "execution_count": 66,
     "metadata": {},
     "output_type": "execute_result"
    }
   ],
   "source": [
    "# MARCO OLMO WON BACK TO BACK UTMB RACES IN 2006 AND 2007.\n",
    "allresults[allresults['rank'] == 1]"
   ]
  },
  {
   "cell_type": "markdown",
   "metadata": {},
   "source": [
    "Marco Olmo is an Italian ultra-runner who won UTMB in 2006 and 2007.  He was 58 and 59 years old when he won!  Last year at age 69, he finished 49th of 1000 runners in the brutal 230km Marathon Des Sables which takes place in the Sahara Desert."
   ]
  },
  {
   "cell_type": "markdown",
   "metadata": {},
   "source": [
    "Question 3: Which categories have the best finishing times?  What can we see that is different than looking at rank?\n",
    "\n",
    "For this question, I removed 2012 since that race was shortened to a 100 km and the times were drastically different than the 160 km times."
   ]
  },
  {
   "cell_type": "code",
   "execution_count": 70,
   "metadata": {},
   "outputs": [],
   "source": [
    "# TIME ANALYSIS WITHOUT 2012 RACE\n",
    "years_without_12 = ['04','05','06','07','08','09','11','13','14','15','16','17']\n",
    "results = pd.DataFrame()\n",
    "\n",
    "for x in years_without_12:\n",
    "    # INTERATE THROUGH ALL THE DATA\n",
    "    data = pd.read_csv('C:\\\\Users\\\\Chris\\\\Desktop\\\\temp\\\\utmb_20' + x + '.csv')\n",
    "    \n",
    "    # CHANGES ALL NATIONALITY DATA TO UPPERCASE\n",
    "    data['nationality'] = data['nationality'].str.upper()\n",
    "    \n",
    "    # PULLS DATA FROM THE .CSV FILES FOR ANALYSIS\n",
    "    results = pd.concat([data['rank'], \n",
    "                         data['nationality'], \n",
    "                         data['category'], \n",
    "                         data['name'], \n",
    "                         data['time']], axis=1).append(results)\n",
    "\n",
    "# REMOVE DNFS\n",
    "results = results[results['nationality'] != ' ']\n",
    "results = results[results['time'] != np.nan]"
   ]
  },
  {
   "cell_type": "code",
   "execution_count": 93,
   "metadata": {},
   "outputs": [],
   "source": [
    "# CONVERT TIME FROM STRING TO TIMEDELTA FORMAT\n",
    "results.sort_values(['time'], inplace=True)\n",
    "results = results.dropna()\n",
    "results['timeparse'] = results['time'].apply(convert_string_to_datetime)\n",
    "results['hours'] = results['timeparse'].dt.total_seconds() / 60 / 60"
   ]
  },
  {
   "cell_type": "code",
   "execution_count": 92,
   "metadata": {
    "scrolled": true
   },
   "outputs": [
    {
     "data": {
      "image/png": "[encoded data removed]",
      "text/plain": [
       "<Figure size 720x360 with 1 Axes>"
      ]
     },
     "metadata": {},
     "output_type": "display_data"
    }
   ],
   "source": [
    "# CREATE BOX PLOTS OF FINISHING TIMES BY CATEGORY\n",
    "rankedcat = []\n",
    "for x in catlist:\n",
    "    rankedcat.append(results.loc[results['category'] == x, 'hours'])\n",
    "    \n",
    "plt.figure(1, figsize=(10,5))\n",
    "plt.boxplot(rankedcat, labels=catlist)\n",
    "plt.ylabel('Time in hours')\n",
    "plt.xlabel('Category')\n",
    "plt.show()"
   ]
  },
  {
   "cell_type": "markdown",
   "metadata": {},
   "source": [
    "This time data clearly shows the majority of all runners in all categories finish around 40 hours which supports the point in the introduction that the majority of runners finish later in the race.  However, these box plots also show us where the prevalence of outlier values are.  There are many more outliers among men than women and men have faster extreme values when comparing the same age group to women.  Additionally, there are many more outliers in the older age groups than younger. \n",
    "\n",
    "These outliners tell us about the variability for the dataset.  Perhaps we have not seen a true representation of how a true sampling across all runners will perform at UTMB.  Most likely, due to the reputation of this race being extreme and difficult, the only runners who end up running tend to be some of the top runners in the world.  (And the top outliners, like Macro Olmo!)  Hence, the distribution is skewed with the bottom whisker showing the top 25% of values being much larger than the top whisker representing the bottom 25%."
   ]
  },
  {
   "cell_type": "markdown",
   "metadata": {},
   "source": [
    "Future Projects: I think this dataset can be used as a predictive model for future runner performances and even a live assessment of the probability of finishing.  This can be done using machine learning and analyzing the live split-timing from the course and comparing them to historic-timing and results based on the runner category.  The basic analytical question is “Will this runner finish the race given their time and location on the course?”  This would be helpful for runners, coaches and race organizers to have a good idea of how many runners are about to DNF the race at any given time.  It can also help detect possible cheaters and course cutting."
   ]
  },
  {
   "cell_type": "code",
   "execution_count": null,
   "metadata": {},
   "outputs": [],
   "source": []
  }
 ],
 "metadata": {
  "kernelspec": {
   "display_name": "Python 3",
   "language": "python",
   "name": "python3"
  },
  "language_info": {
   "codemirror_mode": {
    "name": "ipython",
    "version": 3
   },
   "file_extension": ".py",
   "mimetype": "text/x-python",
   "name": "python",
   "nbconvert_exporter": "python",
   "pygments_lexer": "ipython3",
   "version": "3.6.5"
  }
 },
 "nbformat": 4,
 "nbformat_minor": 2
}
